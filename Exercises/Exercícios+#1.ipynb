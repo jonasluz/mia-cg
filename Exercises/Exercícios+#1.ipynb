{
 "cells": [
  {
   "cell_type": "markdown",
   "metadata": {},
   "source": [
    "# Lista de Exercícios Nº 1 de Computação Gráfica\n",
    "\n",
    "<br>\n",
    "<center>**Jonas de Araújo Luz Jr. <unifor@jonasluz.com>**\n",
    "<br>Março de 2017</center>\n",
    "\n",
    "<hr>\n"
   ]
  },
  {
   "cell_type": "code",
   "execution_count": 1,
   "metadata": {
    "collapsed": true
   },
   "outputs": [],
   "source": [
    "from typing import List\n",
    "Vector = List[float]\n",
    "\n",
    "import numpy as np\n",
    "import matplotlib.pyplot as plt\n",
    "\n",
    "def dcos(v: Vector, verbose=False):\n",
    "    \"\"\"\n",
    "    Calcula os cosenos diretores do vetor a.\n",
    "    Para cada componente c1, c2, ... cn do vetor v, o cosseno diretor é dado por:\n",
    "        dcosk = ck / ||v||\n",
    "    \"\"\"\n",
    "    result = []\n",
    "    \n",
    "    norm = np.linalg.norm(v)    # norma do vetor dado ||v||\n",
    "    if verbose:\n",
    "        print(\"A norma do vetor {} é {}\".format(v, norm))\n",
    "    \n",
    "    for component in v:\n",
    "        result.append(component / norm)\n",
    "        \n",
    "    return result"
   ]
  },
  {
   "cell_type": "markdown",
   "metadata": {},
   "source": [
    "## Questão 1\n",
    "\n",
    "**Demonstrar graficamente a propriedade comutativa da adição de vetores, ou seja, que *u + v = v + u*.**"
   ]
  },
  {
   "cell_type": "code",
   "execution_count": 2,
   "metadata": {
    "collapsed": false
   },
   "outputs": [],
   "source": [
    "def line_limits(x, y, length, axes_size):\n",
    "    \"\"\"\n",
    "    Função utilitária para calcular as dimensões da seta do vetor nos eixos x e y.\n",
    "    A seta representa um triângulo retângulo, cuja hipotenusa é o comprimento da seta.\n",
    "    \"\"\"\n",
    "    v = [x, y]\n",
    "    # O coseno diretor do vetor v é o mesmo da seta\n",
    "    dc = dcos(v)\n",
    "    # x e y são aproximados em função dos valores do coseno diretor\n",
    "    x, y = (v[0] + dc[0] * length), (v[1] + dc[1] * length)\n",
    "    \n",
    "    return (x, y, x / axes_size, y / axes_size)\n",
    "\n",
    "def draw_vector(name:str, origin_x, origin_y, x, y, axes_size, fc='k', lc='b', \n",
    "                labelPos=dict(ha=\"right\", va=\"bottom\"), withProjs=True, immediate=False):\n",
    "    \"\"\"\n",
    "    Desenha o vetor especificado.\n",
    "    \"\"\"\n",
    "    \n",
    "    # Propriedades da ponta das setas dos vetores\n",
    "    arrowtip  = dict(head_width=0.2, head_length=0.2)\n",
    "    # Propriedades das linhas de projeção aos eixos\n",
    "    lineprops = dict(linewidth=0.5, ls='--') \n",
    "    # Posição da nota com nome do vetor.\n",
    "    notexy = (x / 2 + origin_x, y / 2 + origin_y)\n",
    "    # Recupera os eixos de coordenadas.\n",
    "    ax = plt.axes()\n",
    "    plt.axis([0, axes_size, 0, axes_size])\n",
    "    \n",
    "    # Vetor \n",
    "    limits = line_limits(x, y, arrowtip['head_width'], axes_size)\n",
    "    ax.arrow(origin_x, origin_y, x, y, **arrowtip, fc=fc, ec=fc)\n",
    "    ax.annotate(name, xy=notexy, xytext=notexy, **labelPos, color=fc,\n",
    "                family=\"serif\", weight=\"semibold\", size=\"x-large\")\n",
    "    if withProjs:\n",
    "        plt.axhline(limits[1], xmax=limits[2], color=lc, **lineprops)\n",
    "        plt.axvline(limits[0], ymax=limits[3], color=lc, **lineprops)\n",
    "    \n",
    "    if immediate: \n",
    "        plt.show()\n"
   ]
  },
  {
   "cell_type": "code",
   "execution_count": 3,
   "metadata": {
    "collapsed": false
   },
   "outputs": [
    {
     "data": {
      "image/png": "[encoded data removed]",
      "text/plain": [
       "<matplotlib.figure.Figure at 0x2a8d168b550>"
      ]
     },
     "metadata": {},
     "output_type": "display_data"
    }
   ],
   "source": [
    "# Solução da questão 1\n",
    "#\n",
    "axessize = 5\n",
    "\n",
    "# Vetor u\n",
    "u = [2, 3]\n",
    "draw_vector('u', 0, 0, *u, axessize, 'k', 'g')\n",
    "\n",
    "# Vetor v\n",
    "v = [3, 1.5]\n",
    "draw_vector('v', 0, 0, *v, axessize, 'b', 'b')\n",
    "\n",
    "plt.show()"
   ]
  },
  {
   "cell_type": "code",
   "execution_count": 4,
   "metadata": {
    "collapsed": false
   },
   "outputs": [
    {
     "data": {
      "image/png": "[encoded data removed]",
      "text/plain": [
       "<matplotlib.figure.Figure at 0x2a8cf6dbf98>"
      ]
     },
     "metadata": {},
     "output_type": "display_data"
    }
   ],
   "source": [
    "## Plotagem de u + v\n",
    "#\n",
    "axessize = 6\n",
    "\n",
    "# Desenha u novamente\n",
    "draw_vector('u', 0, 0, *u, axessize, 'k', 'g')\n",
    "\n",
    "# Desenha v a partir de u\n",
    "draw_vector('v', *u, *v, axessize, 'b', withProjs=False)\n",
    "\n",
    "# Vetor u + v\n",
    "uv = [u[0] + v[0], u[1] + v[1]]\n",
    "draw_vector('u+v', 0, 0, *uv, axessize, 'r', 'r')\n",
    "\n",
    "plt.show()"
   ]
  },
  {
   "cell_type": "code",
   "execution_count": 5,
   "metadata": {
    "collapsed": false
   },
   "outputs": [
    {
     "data": {
      "image/png": "[encoded data removed]",
      "text/plain": [
       "<matplotlib.figure.Figure at 0x2a8d1b08630>"
      ]
     },
     "metadata": {},
     "output_type": "display_data"
    }
   ],
   "source": [
    "## Plotagem de v + u \n",
    "#\n",
    "axessize = 6\n",
    "\n",
    "# Desenha v novamente\n",
    "draw_vector('v', 0, 0, *v, axessize, 'b', 'b')\n",
    "\n",
    "# Desenha u a partir de v\n",
    "draw_vector('u', *v, *u, axessize, 'k', withProjs=False)\n",
    "\n",
    "# Vetor v + u\n",
    "vu = [v[0] + u[0], v[1] + u[1]]\n",
    "draw_vector('v+u', 0, 0, *uv, axessize, 'r', 'r')\n",
    "\n",
    "plt.show()"
   ]
  },
  {
   "cell_type": "code",
   "execution_count": 6,
   "metadata": {
    "collapsed": false
   },
   "outputs": [
    {
     "data": {
      "image/png": "[encoded data removed]",
      "text/plain": [
       "<matplotlib.figure.Figure at 0x2a8d1a3fc50>"
      ]
     },
     "metadata": {},
     "output_type": "display_data"
    }
   ],
   "source": [
    "## Sobrepondo u+v e v+u\n",
    "# \n",
    "axessize = 6\n",
    "\n",
    "draw_vector('u+v', 0, 0, *uv, axessize, 'r', 'r')\n",
    "draw_vector('v+u', 0, 0, *vu, axessize, 'y', 'y', labelPos=dict(ha=\"left\", va=\"top\"))\n",
    "\n",
    "plt.show()"
   ]
  },
  {
   "cell_type": "markdown",
   "metadata": {},
   "source": [
    "## Questão 2\n",
    "\n",
    "**Calcular os cossenos diretores para os vetores indicados.** \n"
   ]
  },
  {
   "cell_type": "code",
   "execution_count": 7,
   "metadata": {
    "collapsed": true
   },
   "outputs": [],
   "source": [
    "def print_dcos(dcos: Vector):\n",
    "    \"\"\"\n",
    "    Faz uma impressão \"bonita\" da sequência dos cosenos diretores guardados no vetor dcos.\n",
    "    \"\"\"\n",
    "    indices = ['i', 'j', 'k']\n",
    "    print('\\n'.join('Coseno diretor {} é {:.4}'.format(indices[k], v) for k, v in list(enumerate(dcos))))\n"
   ]
  },
  {
   "cell_type": "markdown",
   "metadata": {},
   "source": [
    "**a) h** = [3, 6]"
   ]
  },
  {
   "cell_type": "code",
   "execution_count": 8,
   "metadata": {
    "collapsed": false
   },
   "outputs": [
    {
     "name": "stdout",
     "output_type": "stream",
     "text": [
      "A norma do vetor [3, 6] é 6.708203932499369\n",
      "Coseno diretor i é 0.4472\n",
      "Coseno diretor j é 0.8944\n"
     ]
    }
   ],
   "source": [
    "print_dcos(dcos([3, 6], True))"
   ]
  },
  {
   "cell_type": "markdown",
   "metadata": {},
   "source": [
    "**b) k** = [-4, 8]"
   ]
  },
  {
   "cell_type": "code",
   "execution_count": 9,
   "metadata": {
    "collapsed": false
   },
   "outputs": [
    {
     "name": "stdout",
     "output_type": "stream",
     "text": [
      "A norma do vetor [-4, 8] é 8.94427190999916\n",
      "Coseno diretor i é -0.4472\n",
      "Coseno diretor j é 0.8944\n"
     ]
    }
   ],
   "source": [
    "print_dcos(dcos([-4, 8], True))"
   ]
  },
  {
   "cell_type": "markdown",
   "metadata": {},
   "source": [
    "**c) m** = [5, -4]"
   ]
  },
  {
   "cell_type": "code",
   "execution_count": 10,
   "metadata": {
    "collapsed": false
   },
   "outputs": [
    {
     "name": "stdout",
     "output_type": "stream",
     "text": [
      "A norma do vetor [5, -4] é 6.4031242374328485\n",
      "Coseno diretor i é 0.7809\n",
      "Coseno diretor j é -0.6247\n"
     ]
    }
   ],
   "source": [
    "print_dcos(dcos([5, -4], True))"
   ]
  },
  {
   "cell_type": "markdown",
   "metadata": {},
   "source": [
    "**d) n** = [3, 0]print(dcos([-4, 8], True))"
   ]
  },
  {
   "cell_type": "code",
   "execution_count": 11,
   "metadata": {
    "collapsed": false
   },
   "outputs": [
    {
     "name": "stdout",
     "output_type": "stream",
     "text": [
      "A norma do vetor [3, 0] é 3.0\n",
      "Coseno diretor i é 1.0\n",
      "Coseno diretor j é 0.0\n"
     ]
    }
   ],
   "source": [
    "print_dcos(dcos([3, 0], True))"
   ]
  },
  {
   "cell_type": "markdown",
   "metadata": {},
   "source": [
    "## Questão 3\n",
    "\n",
    "**Encontrar os vetores iniciando no ponto *P* e terminando no ponto *Q*, para cada caso abaixo:**"
   ]
  },
  {
   "cell_type": "code",
   "execution_count": 21,
   "metadata": {
    "collapsed": true
   },
   "outputs": [],
   "source": [
    "def vecpoints(a, b):\n",
    "    a, b = np.array(a), np.array(b)\n",
    "    \n",
    "    return b - a"
   ]
  },
  {
   "cell_type": "markdown",
   "metadata": {},
   "source": [
    "**a)** P(4, 8), Q(3, 7)"
   ]
  },
  {
   "cell_type": "code",
   "execution_count": 25,
   "metadata": {
    "collapsed": false
   },
   "outputs": [
    {
     "name": "stdout",
     "output_type": "stream",
     "text": [
      "[-1 -1]\n"
     ]
    }
   ],
   "source": [
    "print(vecpoints([4, 8], [3, 7]))"
   ]
  },
  {
   "cell_type": "markdown",
   "metadata": {},
   "source": [
    "**b)** P(3, -5), Q(-4, -7)"
   ]
  },
  {
   "cell_type": "code",
   "execution_count": 26,
   "metadata": {
    "collapsed": false
   },
   "outputs": [
    {
     "name": "stdout",
     "output_type": "stream",
     "text": [
      "[-7 -2]\n"
     ]
    }
   ],
   "source": [
    "print(vecpoints([3, -5],[-4, -7]))"
   ]
  },
  {
   "cell_type": "markdown",
   "metadata": {},
   "source": [
    "**c)** P(-5, 0), Q(-3, 1)"
   ]
  },
  {
   "cell_type": "code",
   "execution_count": 27,
   "metadata": {
    "collapsed": false
   },
   "outputs": [
    {
     "name": "stdout",
     "output_type": "stream",
     "text": [
      "[2 1]\n"
     ]
    }
   ],
   "source": [
    "print(vecpoints([-5, 0], [-3, 1]))"
   ]
  },
  {
   "cell_type": "markdown",
   "metadata": {},
   "source": [
    "**d)** P(3, 3), Q(4, 4)"
   ]
  },
  {
   "cell_type": "code",
   "execution_count": 29,
   "metadata": {
    "collapsed": false
   },
   "outputs": [
    {
     "name": "stdout",
     "output_type": "stream",
     "text": [
      "[1 1]\n"
     ]
    }
   ],
   "source": [
    "print(vecpoints([3, 3], [4, 4]))"
   ]
  },
  {
   "cell_type": "markdown",
   "metadata": {},
   "source": [
    "## Questão 4\n",
    "\n",
    "**Sendo *a = ax.i + ay.j + az.k* e *b = bx.i + by.j + bz.k*, apresentar *a X b* na forma de matriz.\n",
    "<br><u>Sugestão:</u> usar  o conceito de *determinante* de uma matriz.**"
   ]
  },
  {
   "cell_type": "code",
   "execution_count": 16,
   "metadata": {
    "collapsed": true
   },
   "outputs": [],
   "source": [
    "# Demonstração sem código."
   ]
  },
  {
   "cell_type": "markdown",
   "metadata": {},
   "source": [
    "## Questão 5\n",
    "\n",
    "**Sendo *a = 3i + 5j* e *b = 2i + j*, calcular o ângulo entre *a* e *b*, usando o produto interno.**"
   ]
  },
  {
   "cell_type": "code",
   "execution_count": 17,
   "metadata": {
    "collapsed": false
   },
   "outputs": [
    {
     "name": "stdout",
     "output_type": "stream",
     "text": [
      "O produto interno entre [3, 5] e [2, 1] é: 11\n",
      "As normas dos vetores a e b são, respectivamente: 5.831 e 2.236\n",
      "O cosseno do ângulo entre a e b é 0.843661\n",
      "O ângulo 0.5667 radianos corresponde a 32.471192º\n",
      "O ângulo interno entre a e b é de 32.471192º\n"
     ]
    }
   ],
   "source": [
    "def intern_angle(a: Vector, b: Vector, verbose=False, degrees=True):\n",
    "    \"\"\"\n",
    "    Calcula o ângulo interno entre dois vetores a partir do produto interno entre eles.\n",
    "    O produto interno é dado por ||a||.||b||.cos(tetha), sendo tetha o ângulo entre os vetores a e b.\n",
    "    Logo, temos que tetha = arccos((a.b)/(||a||.||b||))\n",
    "    \"\"\"\n",
    "    #a, b = np.array(a), np.array(b)\n",
    "    \n",
    "    # Produto interno entre a e b\n",
    "    dp = np.dot(a, b)\n",
    "        \n",
    "    # Normas dos vetores a e b\n",
    "    na, nb = np.linalg.norm(a), np.linalg.norm(b)\n",
    "    \n",
    "    # Cosseno de tetha\n",
    "    cosin = dp / (na * nb)\n",
    "    \n",
    "    if verbose:\n",
    "        print(\"O produto interno entre {} e {} é: {}\".format(a, b, dp))\n",
    "        print(\"As normas dos vetores a e b são, respectivamente: {:.4} e {:.4}\".format(na, nb))\n",
    "        print(\"O cosseno do ângulo entre a e b é {:.6}\".format(cosin))\n",
    "\n",
    "    ac = np.arccos(cosin) # ângulo em radianos [0, pi]\n",
    "    if degrees:\n",
    "        result = ac * 180 / np.pi\n",
    "        if verbose:\n",
    "            print(\"O ângulo {:.4} radianos corresponde a {:.8}º\".format(ac, result))\n",
    "        return result\n",
    "    return ac\n",
    "\n",
    "## Solução da questão 5.\n",
    "#\n",
    "a, b = [3, 5], [2, 1]\n",
    "print(\"O ângulo interno entre a e b é de {:.8}º\".format(intern_angle(a, b, True)))"
   ]
  },
  {
   "cell_type": "markdown",
   "metadata": {},
   "source": [
    "## Questão 6\n",
    "\n",
    "**Sendo os pontos *P(3, 4, 7)* e *Q(2, 1, 9)*, calcular o ângulo entre *OP* e *OQ*, sendo *O* a origem.**"
   ]
  },
  {
   "cell_type": "code",
   "execution_count": 18,
   "metadata": {
    "collapsed": false
   },
   "outputs": [
    {
     "name": "stdout",
     "output_type": "stream",
     "text": [
      "O produto interno entre [3, 4, 7] e [2, 1, 9] é: 73\n",
      "As normas dos vetores a e b são, respectivamente: 8.602 e 9.274\n",
      "O cosseno do ângulo entre a e b é 0.915077\n",
      "O ângulo 0.4151 radianos corresponde a 23.783295º\n",
      "O ângulo interno entre OP e OQ é 23.783295º\n"
     ]
    }
   ],
   "source": [
    "## Solução da questão 6.\n",
    "#\n",
    "\n",
    "# Os segmentos de reta entre os pontos P e origem e entre Q e origem correspondem, respectivamente, aos vetores p e q:\n",
    "p, q = [3, 4, 7], [2, 1, 9]\n",
    "\n",
    "print(\"O ângulo interno entre OP e OQ é {:.8}º\".format(intern_angle(p, q, True)))"
   ]
  },
  {
   "cell_type": "markdown",
   "metadata": {},
   "source": [
    "## Questão 7\n",
    "\n",
    "**Sendo os pontos *P(1, 4, 2)*, *A(4, -1, 4)* e *B(5, 3, 6)*, determinar se *OP* e *AB* são paralelos, sendo *O* a origem.**"
   ]
  },
  {
   "cell_type": "code",
   "execution_count": 19,
   "metadata": {
    "collapsed": false
   },
   "outputs": [
    {
     "name": "stdout",
     "output_type": "stream",
     "text": [
      "O produto interno entre [1 4 2] e [1 4 2] é: 21\n",
      "As normas dos vetores a e b são, respectivamente: 4.583 e 4.583\n",
      "O cosseno do ângulo entre a e b é 1.0\n",
      "O ângulo 0.0 radianos corresponde a 0.0º\n",
      "O ângulo entre os vetores é de 0.0º, logo, os segmentos de reta OP e AB são paralelos.\n"
     ]
    }
   ],
   "source": [
    "P, A, B, O = np.array([1, 4, 2]), np.array([4, -1, 4]), np.array([5, 3, 6]), np.array([0, 0, 0])\n",
    "\n",
    "# O segmento de reta OP corresponde ao vetor p [1, 4, 2].\n",
    "p = P - O # == P\n",
    "# O segmento de reta AB corresponde ao vetor v = B - A.\n",
    "v = B - A\n",
    "\n",
    "# p e v serão paralelos se o ângulo entre eles tetha for igual a zero, ou seja, cos(tetha) == 1\n",
    "# Desta forma, o produto interno entre os vetores, dado por ||p||.||v||.cos(tetha), pode ser usado para se determinar\n",
    "# o ângulo entre estes: temos que tetha = arccos((a.b)/(||a||.||b||))\n",
    "# \n",
    "tetha = intern_angle(p, v, True)\n",
    "print(\"O ângulo entre os vetores é de {:.8}º, logo, os segmentos de reta OP e AB {} paralelos.\"\n",
    "      .format(tetha, \"são\" if tetha == 0 else \"não são\"))"
   ]
  },
  {
   "cell_type": "markdown",
   "metadata": {},
   "source": [
    "## Questão 8\n",
    "\n",
    "**Calcular os comprimentos dos cossenos diretores dos vetores *AB*, abaixo, determinando também os ângulos alpha, beta e gama formados entre esses vetores e os eixos de coordenadas na direção positiva. E, por fim, mostrar que, em cada caso, cos2(alpha) + cos2(beta) + cos2(gama) = 1.**"
   ]
  },
  {
   "cell_type": "code",
   "execution_count": 58,
   "metadata": {
    "collapsed": false
   },
   "outputs": [],
   "source": [
    "def q8(v):\n",
    "    \"\"\"\n",
    "    Rotina para a questão 8.\n",
    "    \"\"\"    \n",
    "    # Cossenos diretores.\n",
    "    dc = dcos(v, True)\n",
    "    print_dcos(dc)\n",
    "    \n",
    "    # Cálculo dos ângulos \"diretores\".\n",
    "    angles_names = ['alpha', 'beta', 'gamma']\n",
    "    angles = {}\n",
    "    for k, name in enumerate(angles_names):\n",
    "        angles[name] = np.arccos(dc[k]) * 180/np.pi\n",
    "        print(\"O ângulo {} tem o valor de {:.6}\".format(name, angles[name]))\n",
    "    \n",
    "    # Verificação da combinação afim.\n",
    "    sum, output = 0, \"\"\n",
    "    for c in dc:\n",
    "        part = c*c\n",
    "        sum += part\n",
    "        if (output != \"\"):\n",
    "            output += \" + \"\n",
    "        output += \"({:.4})^2\".format(c)\n",
    "    print(\"{} = {:.2}\".format(output, sum))\n",
    "    "
   ]
  },
  {
   "cell_type": "markdown",
   "metadata": {},
   "source": [
    "**a)** A(1,1,1) e B(2,0,1)"
   ]
  },
  {
   "cell_type": "code",
   "execution_count": 59,
   "metadata": {
    "collapsed": false
   },
   "outputs": [
    {
     "name": "stdout",
     "output_type": "stream",
     "text": [
      "A norma do vetor [ 1 -1  0] é 1.4142135623730951\n",
      "Coseno diretor i é 0.7071\n",
      "Coseno diretor j é -0.7071\n",
      "Coseno diretor k é 0.0\n",
      "O ângulo alpha tem o valor de 45.0\n",
      "O ângulo beta tem o valor de 135.0\n",
      "O ângulo gamma tem o valor de 90.0\n",
      "(0.7071)^2 + (-0.7071)^2 + (0.0)^2 = 1.0\n"
     ]
    }
   ],
   "source": [
    "v = vecpoints([1, 1, 1], [2, 0, 1])\n",
    "q8(v)"
   ]
  },
  {
   "cell_type": "markdown",
   "metadata": {},
   "source": [
    "**b)** A(2, -1, 1) e B(-2, -2, 2)"
   ]
  },
  {
   "cell_type": "code",
   "execution_count": 60,
   "metadata": {
    "collapsed": false
   },
   "outputs": [
    {
     "name": "stdout",
     "output_type": "stream",
     "text": [
      "A norma do vetor [-4  3  1] é 5.0990195135927845\n",
      "Coseno diretor i é -0.7845\n",
      "Coseno diretor j é 0.5883\n",
      "Coseno diretor k é 0.1961\n",
      "O ângulo alpha tem o valor de 141.671\n",
      "O ângulo beta tem o valor de 53.9601\n",
      "O ângulo gamma tem o valor de 78.6901\n",
      "(-0.7845)^2 + (0.5883)^2 + (0.1961)^2 = 1.0\n"
     ]
    }
   ],
   "source": [
    "v = vecpoints([2, -1, 1], [-2, 2, 2])\n",
    "q8(v)"
   ]
  },
  {
   "cell_type": "markdown",
   "metadata": {},
   "source": [
    "**c)** A(-1, 3, 1) e B(-2, -1, 0)"
   ]
  },
  {
   "cell_type": "code",
   "execution_count": 61,
   "metadata": {
    "collapsed": false
   },
   "outputs": [
    {
     "name": "stdout",
     "output_type": "stream",
     "text": [
      "A norma do vetor [-1 -4 -1] é 4.242640687119285\n",
      "Coseno diretor i é -0.2357\n",
      "Coseno diretor j é -0.9428\n",
      "Coseno diretor k é -0.2357\n",
      "O ângulo alpha tem o valor de 103.633\n",
      "O ângulo beta tem o valor de 160.529\n",
      "O ângulo gamma tem o valor de 103.633\n",
      "(-0.2357)^2 + (-0.9428)^2 + (-0.2357)^2 = 1.0\n"
     ]
    }
   ],
   "source": [
    "v = vecpoints([-1, 3, 1], [-2, -1, 0])\n",
    "q8(v)"
   ]
  }
 ],
 "metadata": {
  "kernelspec": {
   "display_name": "Python 3",
   "language": "python",
   "name": "python3"
  },
  "language_info": {
   "codemirror_mode": {
    "name": "ipython",
    "version": 3
   },
   "file_extension": ".py",
   "mimetype": "text/x-python",
   "name": "python",
   "nbconvert_exporter": "python",
   "pygments_lexer": "ipython3",
   "version": "3.6.0"
  }
 },
 "nbformat": 4,
 "nbformat_minor": 2
}
